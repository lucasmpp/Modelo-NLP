{
 "cells": [
  {
   "cell_type": "code",
   "execution_count": 1,
   "metadata": {
    "id": "v9sjlhim_yrI"
   },
   "outputs": [],
   "source": [
    "from itertools import chain\n",
    "from utils import *\n",
    "from IPython.core.interactiveshell import InteractiveShell\n",
    "\n",
    "import keras\n",
    "import tensorflow as tf\n",
    "import sklearn \n",
    "from keras.models import Sequential\n",
    "from keras import layers\n",
    "from keras.backend import clear_session"
   ]
  },
  {
   "cell_type": "code",
   "execution_count": 2,
   "metadata": {},
   "outputs": [],
   "source": [
    "#pd.set_option('display.max_colwidth', None)\n",
    "InteractiveShell.ast_node_interactivity = \"all\""
   ]
  },
  {
   "cell_type": "code",
   "execution_count": 3,
   "metadata": {
    "id": "vshRbEax_5Z8"
   },
   "outputs": [],
   "source": [
    "dados1 = pd.read_excel('Prontuarios.xlsx')\n",
    "dados2 = pd.read_excel('Perfil.xlsx')"
   ]
  },
  {
   "cell_type": "code",
   "execution_count": 4,
   "metadata": {
    "id": "loJsRcjyAUL1"
   },
   "outputs": [],
   "source": [
    "df1 = pd.merge(dados1, dados2, on=\"NR_REGISTRO\")"
   ]
  },
  {
   "cell_type": "code",
   "execution_count": 5,
   "metadata": {},
   "outputs": [
    {
     "data": {
      "text/html": [
       "<div>\n",
       "<style scoped>\n",
       "    .dataframe tbody tr th:only-of-type {\n",
       "        vertical-align: middle;\n",
       "    }\n",
       "\n",
       "    .dataframe tbody tr th {\n",
       "        vertical-align: top;\n",
       "    }\n",
       "\n",
       "    .dataframe thead th {\n",
       "        text-align: right;\n",
       "    }\n",
       "</style>\n",
       "<table border=\"1\" class=\"dataframe\">\n",
       "  <thead>\n",
       "    <tr style=\"text-align: right;\">\n",
       "      <th></th>\n",
       "      <th>Unnamed: 0</th>\n",
       "      <th>NR_REGISTRO</th>\n",
       "      <th>TEXTO</th>\n",
       "      <th>Unidade</th>\n",
       "      <th>DT_ADMISSAO</th>\n",
       "      <th>SEXO</th>\n",
       "      <th>DT_NASCIMENTO</th>\n",
       "      <th>EST_RESID</th>\n",
       "      <th>TABAGISMO</th>\n",
       "      <th>ALCOOL_CD</th>\n",
       "    </tr>\n",
       "  </thead>\n",
       "  <tbody>\n",
       "    <tr>\n",
       "      <th>0</th>\n",
       "      <td>0.0</td>\n",
       "      <td>D092074</td>\n",
       "      <td>_x000D_\\nPaciente do sexo feminino, 49 anos de...</td>\n",
       "      <td>BSB</td>\n",
       "      <td>2000-03-09</td>\n",
       "      <td>F</td>\n",
       "      <td>1947-01-09</td>\n",
       "      <td>DF</td>\n",
       "      <td>SIM</td>\n",
       "      <td>NÃO</td>\n",
       "    </tr>\n",
       "    <tr>\n",
       "      <th>1</th>\n",
       "      <td>0.0</td>\n",
       "      <td>D101411</td>\n",
       "      <td>_x000D_\\nInformante: Cláudia, a mãe._x000D_\\n_...</td>\n",
       "      <td>BSB</td>\n",
       "      <td>2001-01-02</td>\n",
       "      <td>M</td>\n",
       "      <td>1995-06-17</td>\n",
       "      <td>DF</td>\n",
       "      <td>NÃO</td>\n",
       "      <td>NÃO</td>\n",
       "    </tr>\n",
       "    <tr>\n",
       "      <th>2</th>\n",
       "      <td>0.0</td>\n",
       "      <td>D101423</td>\n",
       "      <td>IDENTIFICAÇÃO: Paciente de 44 anos, feminina, ...</td>\n",
       "      <td>BSB</td>\n",
       "      <td>2001-01-02</td>\n",
       "      <td>F</td>\n",
       "      <td>1956-05-31</td>\n",
       "      <td>GO</td>\n",
       "      <td>SIM</td>\n",
       "      <td>NÃO</td>\n",
       "    </tr>\n",
       "    <tr>\n",
       "      <th>3</th>\n",
       "      <td>0.0</td>\n",
       "      <td>D101486</td>\n",
       "      <td>Paciente de 91 anos, feminina, branca, viúva, ...</td>\n",
       "      <td>BSB</td>\n",
       "      <td>2001-01-05</td>\n",
       "      <td>F</td>\n",
       "      <td>1909-01-29</td>\n",
       "      <td>DF</td>\n",
       "      <td>NÃO</td>\n",
       "      <td>NÃO</td>\n",
       "    </tr>\n",
       "    <tr>\n",
       "      <th>4</th>\n",
       "      <td>0.0</td>\n",
       "      <td>D101487</td>\n",
       "      <td>IDENTIFICAÇÃO: paciente com 46 anos, feminina,...</td>\n",
       "      <td>BSB</td>\n",
       "      <td>2001-01-05</td>\n",
       "      <td>F</td>\n",
       "      <td>1954-10-20</td>\n",
       "      <td>DF</td>\n",
       "      <td>NÃO</td>\n",
       "      <td>NÃO</td>\n",
       "    </tr>\n",
       "  </tbody>\n",
       "</table>\n",
       "</div>"
      ],
      "text/plain": [
       "   Unnamed: 0 NR_REGISTRO                                              TEXTO  \\\n",
       "0         0.0     D092074  _x000D_\\nPaciente do sexo feminino, 49 anos de...   \n",
       "1         0.0     D101411  _x000D_\\nInformante: Cláudia, a mãe._x000D_\\n_...   \n",
       "2         0.0     D101423  IDENTIFICAÇÃO: Paciente de 44 anos, feminina, ...   \n",
       "3         0.0     D101486  Paciente de 91 anos, feminina, branca, viúva, ...   \n",
       "4         0.0     D101487  IDENTIFICAÇÃO: paciente com 46 anos, feminina,...   \n",
       "\n",
       "  Unidade DT_ADMISSAO SEXO DT_NASCIMENTO EST_RESID TABAGISMO ALCOOL_CD  \n",
       "0     BSB  2000-03-09    F    1947-01-09        DF       SIM       NÃO  \n",
       "1     BSB  2001-01-02    M    1995-06-17        DF       NÃO       NÃO  \n",
       "2     BSB  2001-01-02    F    1956-05-31        GO       SIM       NÃO  \n",
       "3     BSB  2001-01-05    F    1909-01-29        DF       NÃO       NÃO  \n",
       "4     BSB  2001-01-05    F    1954-10-20        DF       NÃO       NÃO  "
      ]
     },
     "execution_count": 5,
     "metadata": {},
     "output_type": "execute_result"
    }
   ],
   "source": [
    "df1.head()"
   ]
  },
  {
   "cell_type": "code",
   "execution_count": 6,
   "metadata": {},
   "outputs": [],
   "source": [
    "df1.drop(['Unnamed: 0'], axis = 1, inplace = True)\n",
    "df1[\"TABAGISMO\"] = np.where(df1[\"TABAGISMO\"] == \"SIM\", 1, 0)\n",
    "df1[\"ALCOOL_CD\"] = np.where(df1[\"ALCOOL_CD\"] == \"SIM\", 1, 0)\n",
    "df1[\"SEXO\"] = np.where(df1[\"SEXO\"] == \"F\", 1, 0) # MULHER:1 HOMEM:0"
   ]
  },
  {
   "cell_type": "code",
   "execution_count": 7,
   "metadata": {},
   "outputs": [
    {
     "data": {
      "text/plain": [
       "(28087, 9)"
      ]
     },
     "execution_count": 7,
     "metadata": {},
     "output_type": "execute_result"
    }
   ],
   "source": [
    "#df1.head()\n",
    "df1.shape"
   ]
  },
  {
   "cell_type": "code",
   "execution_count": 8,
   "metadata": {},
   "outputs": [],
   "source": [
    "# df1[\"index\"] = range(4369)\n",
    "# df1 = df1.set_index(\"index\")"
   ]
  },
  {
   "cell_type": "code",
   "execution_count": 9,
   "metadata": {},
   "outputs": [],
   "source": [
    "df1.DT_ADMISSAO = pd.Series(map(lambda x: x.year, df1.DT_ADMISSAO))\n",
    "df1.DT_NASCIMENTO = pd.Series(map(lambda x: x.year, df1.DT_NASCIMENTO))"
   ]
  },
  {
   "cell_type": "code",
   "execution_count": 10,
   "metadata": {
    "scrolled": true
   },
   "outputs": [],
   "source": [
    "df = df1.copy()"
   ]
  },
  {
   "cell_type": "markdown",
   "metadata": {},
   "source": [
    "# Tratando o dataset"
   ]
  },
  {
   "cell_type": "code",
   "execution_count": 11,
   "metadata": {},
   "outputs": [],
   "source": [
    "palavras_uteis = [\"cigarro\",\"cigarros\",\"fumante\",\"tabagismo\",\"tabagista\",\"fumou\",\"fuma\",\"fumava\",'tabaco','maco',\"fumando\",\"tabagica\"]#ictus"
   ]
  },
  {
   "cell_type": "code",
   "execution_count": 12,
   "metadata": {},
   "outputs": [],
   "source": [
    "#prepare the words, removing stop words, not characters\n",
    "df.TEXTO = pd.Series(map(lambda x: arrange_plus(x, 10, 10, \"1\",palavras_uteis), df.TEXTO)) \n",
    "\n"
   ]
  },
  {
   "cell_type": "code",
   "execution_count": 13,
   "metadata": {
    "scrolled": true
   },
   "outputs": [],
   "source": [
    "#df = df.sample(frac=1).reset_index(drop=True)\n",
    "df = df[df.TEXTO != 'vazio']\n",
    "df[\"index\"] = range(24838)\n",
    "df = df.set_index(\"index\")\n"
   ]
  },
  {
   "cell_type": "code",
   "execution_count": 14,
   "metadata": {},
   "outputs": [],
   "source": [
    "x = df.iloc[:, 1]\n",
    "y = df['TABAGISMO']\n"
   ]
  },
  {
   "cell_type": "code",
   "execution_count": 15,
   "metadata": {},
   "outputs": [],
   "source": [
    "from sklearn.model_selection import train_test_split"
   ]
  },
  {
   "cell_type": "code",
   "execution_count": 16,
   "metadata": {},
   "outputs": [],
   "source": [
    "sentences_train, sentences_test, y_train, y_test = train_test_split(x, y, test_size=.15, random_state= 10)\n"
   ]
  },
  {
   "cell_type": "code",
   "execution_count": 17,
   "metadata": {
    "scrolled": true
   },
   "outputs": [],
   "source": [
    "vocab_size, x_train, x_test, maxlen = pre_process(sentences_train, sentences_test, 2000, 100)\n"
   ]
  },
  {
   "cell_type": "markdown",
   "metadata": {},
   "source": [
    "# Modelos"
   ]
  },
  {
   "cell_type": "markdown",
   "metadata": {},
   "source": [
    "###  Modelo CNN "
   ]
  },
  {
   "cell_type": "code",
   "execution_count": 18,
   "metadata": {},
   "outputs": [],
   "source": [
    "parada = tf.keras.callbacks.EarlyStopping(\n",
    "    monitor=\"val_loss\",\n",
    "    patience=3\n",
    "    \n",
    ")"
   ]
  },
  {
   "cell_type": "code",
   "execution_count": 19,
   "metadata": {},
   "outputs": [],
   "source": [
    "def build_model(embedding_dim,dropout,lr,ls):   \n",
    "\n",
    "    model = Sequential()\n",
    "    model.add(layers.Embedding(vocab_size, embedding_dim, input_length=maxlen)) \n",
    "    model.add(layers.Conv1D(64, 7, activation='relu'))\n",
    "    model.add(layers.GlobalMaxPooling1D())\n",
    "    model.add(layers.Flatten())\n",
    "    model.add(layers.Dense(10, activation=\"relu\"))\n",
    "    model.add(layers.Dropout(dropout))\n",
    "    model.add(layers.Dense(1, activation='sigmoid'))\n",
    "    model.compile(optimizer=keras.optimizers.Adam(learning_rate=lr),\n",
    "                  loss=tf.keras.losses.BinaryCrossentropy(label_smoothing=ls),\n",
    "                  metrics=['accuracy'])\n",
    "    return model"
   ]
  },
  {
   "cell_type": "code",
   "execution_count": null,
   "metadata": {},
   "outputs": [],
   "source": []
  },
  {
   "cell_type": "code",
   "execution_count": 20,
   "metadata": {},
   "outputs": [],
   "source": [
    "def build_model1(embedding_dim, num_filters, kernel_size, dropout,lr,ls):   \n",
    "\n",
    "    model = Sequential()\n",
    "    model.add(layers.Embedding(2000, embedding_dim, input_length=100)) \n",
    "    model.add(layers.Conv1D(num_filters, kernel_size, activation='relu'))\n",
    "    model.add(layers.GlobalMaxPooling1D())\n",
    "    model.add(layers.Dense(10, activation=\"relu\"))\n",
    "    model.add(layers.Dropout(dropout))\n",
    "    model.add(layers.Dense(1, activation='sigmoid'))\n",
    "    model.compile(optimizer=keras.optimizers.Adam(learning_rate=lr),\n",
    "                  loss=tf.keras.losses.BinaryCrossentropy(label_smoothing=ls),\n",
    "                  metrics=['accuracy'])\n",
    "    return model"
   ]
  },
  {
   "cell_type": "markdown",
   "metadata": {},
   "source": [
    "### Tunando os parâmetros com RandomSearch"
   ]
  },
  {
   "cell_type": "code",
   "execution_count": 21,
   "metadata": {},
   "outputs": [],
   "source": [
    "# from keras.wrappers.scikit_learn import KerasClassifier\n",
    "# from sklearn.model_selection import RandomizedSearchCV\n",
    "\n",
    "\n",
    "# #embedding_dim = 50\n",
    "# maxlen = 100\n",
    "\n",
    "\n",
    "# # Train-test split\n",
    "# sentences_train_H, sentences_test_H, y_train_H, y_test_H = train_test_split(\n",
    "#     x, y, test_size=0.2, random_state=10)\n",
    "\n",
    "# # Tokenize words\n",
    "# tokenizer = Tokenizer(num_words=1000)\n",
    "# tokenizer.fit_on_texts(sentences_train)\n",
    "# X_train_H = tokenizer.texts_to_sequences(sentences_train)\n",
    "# X_test_H = tokenizer.texts_to_sequences(sentences_test)\n",
    "\n",
    "# # Adding 1 because of reserved 0 index\n",
    "# vocab_size = len(tokenizer.word_index) + 1\n",
    "\n",
    "# # Pad sequences with zeros\n",
    "# X_train_H = pad_sequences(X_train_H, padding='post', maxlen=maxlen)\n",
    "# X_test_H = pad_sequences(X_test_H, padding='post', maxlen=maxlen)\n",
    "\n",
    "# # Parameter grid for grid search\n",
    "# param_grid = dict(num_filters=[32, 64, 128],\n",
    "#                   kernel_size=[3, 5, 7],\n",
    "#                   embedding_dim=[30,40,50,60,80,100],\n",
    "#                   dropout = [0.2,0.3,0.4,0.5],\n",
    "#                   lr = [0.0001,0.0003],\n",
    "#                   ls = [0,0.1,0.2])\n",
    "\n",
    "# model = KerasClassifier(build_fn=build_model1,verbose=False,batch_size  = 32,epochs = 20)\n",
    "\n",
    "    \n",
    "# grid = RandomizedSearchCV(estimator=model, param_distributions=param_grid,\n",
    "#                              cv=6, verbose=1, n_iter=6, n_jobs = -1)\n",
    "# grid_result = grid.fit(X_train_H, y_train_H)\n",
    "\n",
    "\n",
    "# # Evaluate testing set\n",
    "# test_accuracy = grid.score(X_test_H, y_test_H)\n",
    "\n",
    "# s = ('Best Accuracy : '\n",
    "#     '{:.4f}\\n{}\\nTest Accuracy : {:.4f}\\n\\n')\n",
    "\n",
    "# output_string = s.format(\n",
    "#     grid_result.best_score_,\n",
    "#     grid_result.best_params_,\n",
    "#     test_accuracy)\n",
    "# print(output_string)\n",
    "      "
   ]
  },
  {
   "cell_type": "code",
   "execution_count": 53,
   "metadata": {},
   "outputs": [],
   "source": [
    "clear_session()"
   ]
  },
  {
   "cell_type": "code",
   "execution_count": 54,
   "metadata": {},
   "outputs": [],
   "source": [
    "model2 = build_model1(embedding_dim = 130, num_filters =150, kernel_size = 7, dropout = 0.2, lr = 0.0001, ls = 0.1)"
   ]
  },
  {
   "cell_type": "code",
   "execution_count": 24,
   "metadata": {},
   "outputs": [],
   "source": [
    "#model2.summary()"
   ]
  },
  {
   "cell_type": "code",
   "execution_count": 55,
   "metadata": {
    "scrolled": true
   },
   "outputs": [
    {
     "name": "stdout",
     "output_type": "stream",
     "text": [
      "Epoch 1/100\n",
      "70/70 - 9s - loss: 0.6124 - accuracy: 0.7332 - val_loss: 0.5550 - val_accuracy: 0.7386\n",
      "Epoch 2/100\n",
      "70/70 - 10s - loss: 0.5297 - accuracy: 0.7458 - val_loss: 0.4884 - val_accuracy: 0.7982\n",
      "Epoch 3/100\n",
      "70/70 - 9s - loss: 0.4731 - accuracy: 0.8064 - val_loss: 0.4458 - val_accuracy: 0.8295\n",
      "Epoch 4/100\n",
      "70/70 - 10s - loss: 0.4441 - accuracy: 0.8334 - val_loss: 0.4270 - val_accuracy: 0.8510\n",
      "Epoch 5/100\n",
      "70/70 - 10s - loss: 0.4286 - accuracy: 0.8481 - val_loss: 0.4187 - val_accuracy: 0.8544\n",
      "Epoch 6/100\n",
      "70/70 - 9s - loss: 0.4211 - accuracy: 0.8528 - val_loss: 0.4136 - val_accuracy: 0.8576\n",
      "Epoch 7/100\n",
      "70/70 - 9s - loss: 0.4160 - accuracy: 0.8601 - val_loss: 0.4099 - val_accuracy: 0.8595\n",
      "Epoch 8/100\n",
      "70/70 - 9s - loss: 0.4094 - accuracy: 0.8625 - val_loss: 0.4061 - val_accuracy: 0.8626\n",
      "Epoch 9/100\n",
      "70/70 - 10s - loss: 0.4047 - accuracy: 0.8671 - val_loss: 0.4029 - val_accuracy: 0.8655\n",
      "Epoch 10/100\n",
      "70/70 - 10s - loss: 0.4002 - accuracy: 0.8682 - val_loss: 0.4002 - val_accuracy: 0.8655\n",
      "Epoch 11/100\n",
      "70/70 - 11s - loss: 0.3972 - accuracy: 0.8712 - val_loss: 0.3982 - val_accuracy: 0.8668\n",
      "Epoch 12/100\n",
      "70/70 - 11s - loss: 0.3944 - accuracy: 0.8748 - val_loss: 0.3961 - val_accuracy: 0.8690\n",
      "Epoch 13/100\n",
      "70/70 - 10s - loss: 0.3913 - accuracy: 0.8792 - val_loss: 0.3943 - val_accuracy: 0.8702\n",
      "Epoch 14/100\n",
      "70/70 - 10s - loss: 0.3874 - accuracy: 0.8825 - val_loss: 0.3923 - val_accuracy: 0.8702\n",
      "Epoch 15/100\n",
      "70/70 - 10s - loss: 0.3840 - accuracy: 0.8836 - val_loss: 0.3911 - val_accuracy: 0.8743\n",
      "Epoch 16/100\n",
      "70/70 - 10s - loss: 0.3817 - accuracy: 0.8857 - val_loss: 0.3902 - val_accuracy: 0.8737\n",
      "Epoch 17/100\n",
      "70/70 - 11s - loss: 0.3776 - accuracy: 0.8894 - val_loss: 0.3882 - val_accuracy: 0.8746\n",
      "Epoch 18/100\n",
      "70/70 - 11s - loss: 0.3733 - accuracy: 0.8966 - val_loss: 0.3871 - val_accuracy: 0.8759\n",
      "Epoch 19/100\n",
      "70/70 - 11s - loss: 0.3715 - accuracy: 0.8967 - val_loss: 0.3864 - val_accuracy: 0.8759\n",
      "Epoch 20/100\n",
      "70/70 - 11s - loss: 0.3690 - accuracy: 0.8979 - val_loss: 0.3857 - val_accuracy: 0.8765\n",
      "Epoch 21/100\n",
      "70/70 - 11s - loss: 0.3661 - accuracy: 0.9014 - val_loss: 0.3853 - val_accuracy: 0.8772\n",
      "Epoch 22/100\n",
      "70/70 - 11s - loss: 0.3634 - accuracy: 0.9023 - val_loss: 0.3847 - val_accuracy: 0.8781\n",
      "Epoch 23/100\n",
      "70/70 - 11s - loss: 0.3612 - accuracy: 0.9045 - val_loss: 0.3847 - val_accuracy: 0.8791\n",
      "Epoch 24/100\n",
      "70/70 - 11s - loss: 0.3590 - accuracy: 0.9064 - val_loss: 0.3841 - val_accuracy: 0.8765\n",
      "Epoch 25/100\n",
      "70/70 - 11s - loss: 0.3553 - accuracy: 0.9077 - val_loss: 0.3836 - val_accuracy: 0.8781\n",
      "Epoch 26/100\n",
      "70/70 - 11s - loss: 0.3534 - accuracy: 0.9118 - val_loss: 0.3833 - val_accuracy: 0.8800\n",
      "Epoch 27/100\n",
      "70/70 - 10s - loss: 0.3513 - accuracy: 0.9133 - val_loss: 0.3840 - val_accuracy: 0.8794\n",
      "Epoch 28/100\n",
      "70/70 - 11s - loss: 0.3483 - accuracy: 0.9156 - val_loss: 0.3837 - val_accuracy: 0.8797\n",
      "Epoch 29/100\n",
      "70/70 - 11s - loss: 0.3458 - accuracy: 0.9176 - val_loss: 0.3830 - val_accuracy: 0.8800\n",
      "Epoch 30/100\n",
      "70/70 - 11s - loss: 0.3431 - accuracy: 0.9171 - val_loss: 0.3833 - val_accuracy: 0.8797\n",
      "Epoch 31/100\n",
      "70/70 - 11s - loss: 0.3413 - accuracy: 0.9203 - val_loss: 0.3836 - val_accuracy: 0.8797\n",
      "Epoch 32/100\n",
      "70/70 - 10s - loss: 0.3393 - accuracy: 0.9217 - val_loss: 0.3845 - val_accuracy: 0.8794\n"
     ]
    },
    {
     "data": {
      "image/png": "[encoded data removed]",
      "text/plain": [
       "<Figure size 864x360 with 2 Axes>"
      ]
     },
     "metadata": {},
     "output_type": "display_data"
    }
   ],
   "source": [
    "\n",
    "history = model2.fit(x_train, y_train,\n",
    "                    epochs=100,\n",
    "                    verbose=2,\n",
    "                    validation_split = 0.15,\n",
    "                    batch_size=258,\n",
    "                    callbacks = parada)\n",
    "\n",
    "plot_history(history)"
   ]
  },
  {
   "cell_type": "code",
   "execution_count": 56,
   "metadata": {
    "scrolled": false
   },
   "outputs": [
    {
     "data": {
      "image/png": "[encoded data removed]",
      "text/plain": [
       "<Figure size 432x288 with 2 Axes>"
      ]
     },
     "metadata": {},
     "output_type": "display_data"
    },
    {
     "name": "stdout",
     "output_type": "stream",
     "text": [
      "Test loss: 0.3981\n",
      "Test accuracy: 0.8725\n"
     ]
    }
   ],
   "source": [
    "y_pred, predictions = previsao(x_test,y_test,model2)"
   ]
  },
  {
   "cell_type": "code",
   "execution_count": 57,
   "metadata": {},
   "outputs": [
    {
     "name": "stdout",
     "output_type": "stream",
     "text": [
      "WARNING:tensorflow:From C:\\Users\\601546\\.conda\\envs\\tensorflow_env\\lib\\site-packages\\tensorflow\\python\\training\\tracking\\tracking.py:111: Model.state_updates (from tensorflow.python.keras.engine.training) is deprecated and will be removed in a future version.\n",
      "Instructions for updating:\n",
      "This property should not be used in TensorFlow 2.0, as updates are applied automatically.\n",
      "WARNING:tensorflow:From C:\\Users\\601546\\.conda\\envs\\tensorflow_env\\lib\\site-packages\\tensorflow\\python\\training\\tracking\\tracking.py:111: Layer.updates (from tensorflow.python.keras.engine.base_layer) is deprecated and will be removed in a future version.\n",
      "Instructions for updating:\n",
      "This property should not be used in TensorFlow 2.0, as updates are applied automatically.\n",
      "INFO:tensorflow:Assets written to: modelo_fumo\\assets\n"
     ]
    }
   ],
   "source": [
    "model2.save('modelo_fumo')"
   ]
  },
  {
   "cell_type": "code",
   "execution_count": 28,
   "metadata": {},
   "outputs": [],
   "source": [
    "#keras.utils.plot_model(model2, \"my_first_model_with_shape_info.png\", show_shapes=True)"
   ]
  },
  {
   "cell_type": "code",
   "execution_count": 29,
   "metadata": {},
   "outputs": [],
   "source": [
    "\n",
    "# text_input = keras.Input(\n",
    "#     shape=(100), name = 'text' ) \n",
    "\n",
    "# cov_input = keras.Input(shape=(3), name = 'cov' )  \n",
    " \n",
    "    \n",
    "# text_layer1 = layers.Embedding(2000, 100)(text_input)\n",
    "# text_layer2 = layers.Conv1D(128, 7, activation='relu')(text_layer1)\n",
    "# text_layer3 = layers.GlobalMaxPooling1D()(text_layer2)\n",
    "# text_layer4 = layers.Dense(10, activation=\"relu\")(text_layer3)\n",
    "# text_layer5 = layers.Dropout(0.2)(text_layer4)\n",
    "\n",
    "\n",
    "# # Merge all available features into a single large vector via concatenation\n",
    "# x = layers.concatenate([text_layer5, cov_input])\n",
    "\n",
    "\n",
    "# output_layer = layers.Dense(1,activation = 'sigmoid')(x)\n",
    "\n",
    "# # Instantiate an end-to-end model predicting both priority and department\n",
    "# model = keras.Model(\n",
    "#     inputs  = [text_input,cov_input],\n",
    "#     outputs = [output_layer],\n",
    "# )"
   ]
  },
  {
   "cell_type": "code",
   "execution_count": 30,
   "metadata": {},
   "outputs": [],
   "source": [
    "# model.compile(\n",
    "#     optimizer=keras.optimizers.Adam(learning_rate=0.0001),\n",
    "#     loss= tf.keras.losses.BinaryCrossentropy(label_smoothing=0.1),\n",
    "#     metrics=['accuracy']\n",
    "        \n",
    "# )"
   ]
  },
  {
   "cell_type": "code",
   "execution_count": 31,
   "metadata": {},
   "outputs": [],
   "source": [
    "# model.fit(\n",
    "#     {\"text\": x_train, \"body\": body_data, \"tags\": tags_data},\n",
    "#     y_train\n",
    "#     epochs=2,\n",
    "#     batch_size=32,\n",
    "# )"
   ]
  },
  {
   "cell_type": "markdown",
   "metadata": {},
   "source": [
    "modelo bom:\n",
    "  -  range(10,10) ou (5,5)\n",
    "  -  emb_dim = 40\n",
    "  - maxlen = 60 ou 40\n",
    "  -  conv1d (64, 7)\n",
    "  -  dropout = 0.15\n",
    "  -  lr = 0.0001\n",
    "  -  epochs = 100\n",
    "  -  earlystop  = 3\n",
    "  -  label_smooth = 0.1"
   ]
  },
  {
   "cell_type": "code",
   "execution_count": 32,
   "metadata": {},
   "outputs": [
    {
     "data": {
      "text/plain": [
       "0.8920265780730897"
      ]
     },
     "execution_count": 32,
     "metadata": {},
     "output_type": "execute_result"
    }
   ],
   "source": [
    "(495+2588+676)/(2588+200+255+495+676)\n"
   ]
  },
  {
   "cell_type": "code",
   "execution_count": 33,
   "metadata": {},
   "outputs": [],
   "source": [
    "df_test = pd.DataFrame(df.iloc[list(sentences_test.index), :])\n",
    "df_test[\"Previsão\"] = y_pred\n",
    "df_test[\"probabilidade\"] = predictions.round(3)\n"
   ]
  },
  {
   "cell_type": "code",
   "execution_count": 34,
   "metadata": {
    "scrolled": false,
    "tags": []
   },
   "outputs": [
    {
     "name": "stdout",
     "output_type": "stream",
     "text": [
      "AMBULATÓRIO DE REABILITAÇÃO NEUROLÓGICA / ADMISSÃO_x000D_\n",
      "_x000D_\n",
      "IDENTIFICAÇÃO:_x000D_\n",
      "O Sr. Antônio está com 55 anos de idade, possui Ensino Médio completo, destro, servidor público federal da administração dos jornais do Senado e da Câmara dos Deputados._x000D_\n",
      "Ele vem acompanhado de sua esposa, Srª. Maria de Fátima, e da filha Moema e do secretário, Sr. Davi._x000D_\n",
      "Natural de São José da Coroa Grande-PE e residente no Núcleo Bandeirante-DF._x000D_\n",
      "_x000D_\n",
      "QUEIXA PRINCIPAL:_x000D_\n",
      "Acidente vascular cerebral._x000D_\n",
      "_x000D_\n",
      "HISTÓRIA DA MOLÉSTIA ATUAL:_x000D_\n",
      "No dia 12 de outubro de 2010, pela manhã, o paciente apresentou queda súbita ao solo, sem perceber que se encontrava hemiplégico à esquerda. Ao tentar levantar-se, observou presença da paralisia e começou a apresentar dificuldade para comunicar-se com disartria e confusão mental._x000D_\n",
      "Ele foi atendido pelo SAMU, que o encaminhou para o hospital da localidade. Neste caso, na cidade do interior do Acre. Ele foi medicado e avaliado por neurologista e transferido para a cidade de Rio Branco-AC, onde realizou tomografia computadorizada de encéfalo, que diagnosticou acidente vascular cerebral._x000D_\n",
      "Ele mantinha-se levemente desorientado e disártrico e apresenta dificuldade para deglutição._x000D_\n",
      "Em 16 de outubro de 2010, o paciente foi transferido para Brasília, internado no Hospital Santa Lúcia. Foi admitido em unidade de terapia intensiva, por dificuldade respiratória e diagnosticada pneumonia aspirativa._x000D_\n",
      "Esteve na unidade de terapia intensiva por uma semana e, posteriormente, mais uma semana, em enfermaria. Não necessitou de entubação orotraqueal, sonda nasoenteral ou vesical._x000D_\n",
      "Não apresentou descomplicações, além do quadro clínico pneumônico._x000D_\n",
      "Durante a internação, iniciou tratamento fisioterápico e acompanhamento fonoaudiológico._x000D_\n",
      "Evoluiu para alimentação de consistência semelhante à da família, teve alta do hospital em 29 de outubro de 2010, encontrando-se dependente para as atividades de vida diária, hemiplégico, sem equilíbrio de tronco adequado e manteve fisioterapia domiciliar diariamente em casa._x000D_\n",
      "Em dezembro de 2010, já se sentava sem apoio e veio evoluindo com melhoras progressivas._x000D_\n",
      "Realiza também tratamento de acupuntura, três vezes por semana; fisioterapia domiciliar, duas vezes por semana; e hidroterapia, três vezes por semana._x000D_\n",
      "Atualmente, já consegue levantar-se da cadeira, com apoio em um ponto fixo e trocar passos com auxílio de uma bengala em \"T\"._x000D_\n",
      "_x000D_\n",
      "ATIVIDADES DE VIDA DIÁRIA:_x000D_\n",
      "Ele consegue alimentar-se com garfo, com a mão direita, recebendo a comida, cortada e servida._x000D_\n",
      "O banho é realizado sentado, necessitando de complementação para lavar a cabeça, as costas, o membro superior direito e os membros inferiores._x000D_\n",
      "Possui barras adaptadas no banheiro e utiliza uma cadeira de banho._x000D_\n",
      "Costuma fazer as necessidades fisiológicas antes do banho, com hábito intestinal diário, apoiado em alimentação laxativa, já que se encontrava ressecado inicialmente._x000D_\n",
      "Ele consegue escovar os dentes, com preparo._x000D_\n",
      "O vestuário é realizado pelo secretário, mas o paciente auxilia._x000D_\n",
      "É continente vesical, solicitando e indo até o banheiro, necessitando de ajuda para tirar e colocar a roupa e também para realizar o asseio._x000D_\n",
      "Realiza mudanças de decúbito, independentemente, consegue passar da posição deitada para posição sentada._x000D_\n",
      "_x000D_\n",
      "FATORES DE RISCO VASCULAR:_x000D_\n",
      "O paciente era portador de dislipidemia e obesidade. Na época do ictus, pesando 120 kg, e consumia etanol, diariamente, cerca de quatro latas de cerveja._x000D_\n",
      "Era portador de ansiedade de longa data, sem nunca ter realizado tratamento._x000D_\n",
      "Apresentava crises de ansiedade, associada à dispneia, sugestivas de transtorno do pânico, com maior frequência perto do ictus._x000D_\n",
      "Depois do acidente vascular cerebral, apresentou um episódio de crise convulsiva, caracterizada por parada comportamental, versão ocular e abalos tônicos-clônicos em dimídio esquerdo, palidez cutânea mucosa e ofegância respiratória._x000D_\n",
      "No pós-ictal, apresentou episódio de liberação esfincteriana e discreta confusão mental, com amnésia do ocorrido e após a fase pós-ictal, retornou ao estado habitual._x000D_\n",
      "Ele foi atendido em hospital, realizada tomografia computadorizada de encéfalo, sem apresentar sinais de hemorragia ou outras lesões._x000D_\n",
      "Desde então, faz uso de Hidantal 100 mg, duas vezes ao dia. Refere que após o ictus, o sono era muito agitado e, por isso, faz uso de Ocadil 1 mg, dois comprimidos à noite. Também faz uso de Plavix 75 mg e Ácido Acetilsalicílico 100 mg, além de Aropax (Paroxetina), entretanto, não sabe dizer sobre a dosagem do fármaco._x000D_\n",
      "_x000D_\n",
      "HISTÓRIA PATOLÓGICA PREGRESSA:_x000D_\n",
      "Além do já relatado, realizou tratamento cirúrgico de pólipo nasal em setembro de 2010._x000D_\n",
      "Apresentou um quadro de amnésia global, transitória, há 15 anos, de aproximadamente duas horas de duração, e foi internado por alguns dias, por um quadro viral febril, após ter viajado para o Acre, que não foi definido quanto à etiologia._x000D_\n",
      "Possui histórico de alergia a esparadrapo e, eventual, prurido cutâneo após o banho, que alivia após vestir-se._x000D_\n",
      "_x000D_\n",
      "HISTÓRIA PATOLÓGICA FAMILIAR:_x000D_\n",
      "A mãe e os avós maternos sofrem acidente vascular cerebral e eram cardiopatas. A mãe também possuía quadro de ansiedade._x000D_\n",
      "O paciente é o primeiro de uma prole de seis filhos, alguns deles dislipidêmicos e os demais saudáveis._x000D_\n",
      "Possui um tio, irmão gêmeo de seu pai, que é diabético._x000D_\n",
      "O seu pai tem 82 anos de idade e é saudável._x000D_\n",
      "Os filhos, Moema e Caio, são saudáveis._x000D_\n",
      "_x000D_\n",
      "CONDIÇÕES E HABITOS DE VIDA:_x000D_\n",
      "Era tabagista de uma carteira de cigarros ao dia, dos 18 aos 30 anos de idade. Desde então, é abstêmio._x000D_\n",
      "Hábito etílico de quatro latas de cerveja, ao dia, até a época do ictus._x000D_\n",
      "Fazia caminhadas de 10 km, diariamente, até a época do ictus. Mas, apresentava dispneia na tentativa de esforços maiores, como jogar futebol._x000D_\n",
      "Apreciava andar de moto e assistir jogos de futebol no estádio._x000D_\n",
      "Está afastado do trabalho, licenciado pelo INSS, após o acidente vascular cerebral._x000D_\n",
      "_x000D_\n",
      "COMPORTAMENTO:_x000D_\n",
      "A família observa que ele apresenta quadro de ansiedade importante, preocupações excessivas e perserveração._x000D_\n",
      "Alimenta-se bem e não tem queixas com relação à memória, leitura ou escrita._x000D_\n",
      "_x000D_\n",
      "EXAMES REALIZADOS:_x000D_\n",
      "O paciente trouxe alguns exames para a nossa avaliação._x000D_\n",
      "_x000D_\n",
      "13 de outubro de 2010:_x000D_\n",
      "- ressonância nuclear magnética de encéfalo mostrando lesão isquêmica aguda em artéria cerebral média direita._x000D_\n",
      "- doppler de carótidas e vertebrais: normal;_x000D_\n",
      "_x000D_\n",
      "12 de outubro de 2010:_x000D_\n",
      "Exames laboratoriais:_x000D_\n",
      "- LDL: 27;_x000D_\n",
      "- VLDL: 48;_x000D_\n",
      "- colesterol total: 100;_x000D_\n",
      "- RNI: 1,07;_x000D_\n",
      "- KTTP: normal;_x000D_\n",
      "- hemograma: normal;_x000D_\n",
      "- glicemia de jejum: 117;_x000D_\n",
      "- uréia: 30;_x000D_\n",
      "- creatinina: 0,9;_x000D_\n",
      "- sódio: 130;_x000D_\n",
      "- potássio: 4,3;_x000D_\n",
      "- magnésio: 1,5;_x000D_\n",
      "- proteína C-Reativa: menor que 6._x000D_\n",
      "_x000D_\n",
      "14 de outubro de 2010:_x000D_\n",
      "- ecocardiograma com fração de ejeção de 63%, encurtamento percentual de 35%. Conclusão: disfunção diastólica do ventrículo esquerdo, grau I._x000D_\n",
      "_x000D_\n",
      "29 de março de 2011:_x000D_\n",
      "Exames laboratoriais:_x000D_\n",
      "- Gama GT: 98;_x000D_\n",
      "- hemograma: normal,_x000D_\n",
      "_x000D_\n",
      "EXAME NEUROLÓGICO:_x000D_\n",
      "- paciente orientada no tempo e no espaço, colaborativo com o examinador, não possui disartria ou anomias;_x000D_\n",
      "- não observamos apraxias no dimídio direito e a coordenação encontra-se preservada deste lado. À esquerda, observamos paresia facial central, hipoestesia cutânea de todo dimídio, incluindo a face e houve dificuldade de o paciente colaborar com exame mais minucioso da sensibilidade;_x000D_\n",
      "- não possui fenômeno de extinção aos estímulos simultâneos táteis;_x000D_\n",
      "- apresenta subluxação em ombro esquerdo, com discreta dor à elevação do ombro, acima de 150º;_x000D_\n",
      "- realiza o movimento de elevação do ombro e flexão da mão esquerda e tríplice flexão do membro inferior esquerdo. Sendo a paresia mais evidente em membro superior;_x000D_\n",
      "- o tônus muscular é discretamente aumentado, de face mobilização, com alteração dinâmica durante os movimentos, onde apresenta aumento do tônus muscular;_x000D_\n",
      "- levanta-se da cadeira em um ponto fixo e com a bengala em \"T\" consegue trocar passos, com padrão ceifante do membro inferior esquerdo, tendência à inversão e flexão dos dedos em garra durante a fase de apoio e abdução durante a fase de balanço, além de aumento do pico de flexão do quadril._x000D_\n",
      "_x000D_\n",
      "CONCLUSÃO:_x000D_\n",
      "Trata-se de um paciente de 55 anos de idade, que sofreu acidente vascular cerebral isquêmico, em território da artéria cerebral média direita, em outubro de 2010. Tendo como fatores de risco vascular prévios: dislipidemia, obesidade, uso de etanol, história familiar de eventos cardiovasculares, além de um quadro de ansiedade importante e não tratada._x000D_\n",
      "Observamos, ao longo da consulta, que o paciente realmente apresenta dificuldade em controlar os impulsos emocionais, interrompendo frequentemente o discurso dos familiares e também da examinadora, mas parece ter boa interação com o meio, que pode permitir maior capacidade funcional._x000D_\n",
      "_x000D_\n",
      "CONDUTA:_x000D_\n",
      "Solicitar internação na Enfermaria de Reabilitação Neurológica, para participar de programa de reabilitação._x000D_\n",
      "No momento, avaliaremos a necessidade de realização de novos exames para avaliação clínico-funcional._x000D_\n",
      "Vale ressaltar que o paciente teve importante perda de peso, estando mais eutrófico, atualmente, que pode também ter justificado a melhora do controle pressórico e glicêmico._x000D_\n",
      "Orientamos o paciente e os familiares para aguardar o contato da Equipe de Reabilitação Neurológica, para internação no programa._x000D_\n",
      "_x000D_\n",
      "_x000D_\n",
      "Rjs\t\t\t\tDrª. Daniele Stieven Trizotto / Ambulatório de Reabilitação Neurológica_x000D_\n",
      "\n"
     ]
    },
    {
     "data": {
      "text/plain": [
       "[None]"
      ]
     },
     "execution_count": 34,
     "metadata": {},
     "output_type": "execute_result"
    }
   ],
   "source": [
    "[print(x) for x in df1.TEXTO[df1.NR_REGISTRO == \"D197338\"] if x != None]"
   ]
  },
  {
   "cell_type": "code",
   "execution_count": 35,
   "metadata": {
    "scrolled": false
   },
   "outputs": [
    {
     "name": "stderr",
     "output_type": "stream",
     "text": [
      "C:\\Users\\601546\\.conda\\envs\\tensorflow_env\\lib\\site-packages\\pandas\\core\\frame.py:4305: SettingWithCopyWarning: \n",
      "A value is trying to be set on a copy of a slice from a DataFrame\n",
      "\n",
      "See the caveats in the documentation: https://pandas.pydata.org/pandas-docs/stable/user_guide/indexing.html#returning-a-view-versus-a-copy\n",
      "  return super().drop(\n"
     ]
    },
    {
     "data": {
      "text/html": [
       "<div>\n",
       "<style scoped>\n",
       "    .dataframe tbody tr th:only-of-type {\n",
       "        vertical-align: middle;\n",
       "    }\n",
       "\n",
       "    .dataframe tbody tr th {\n",
       "        vertical-align: top;\n",
       "    }\n",
       "\n",
       "    .dataframe thead th {\n",
       "        text-align: right;\n",
       "    }\n",
       "</style>\n",
       "<table border=\"1\" class=\"dataframe\">\n",
       "  <thead>\n",
       "    <tr style=\"text-align: right;\">\n",
       "      <th></th>\n",
       "      <th>NR_REGISTRO</th>\n",
       "      <th>TEXTO</th>\n",
       "      <th>TABAGISMO</th>\n",
       "      <th>Previsão</th>\n",
       "      <th>probabilidade</th>\n",
       "    </tr>\n",
       "    <tr>\n",
       "      <th>index</th>\n",
       "      <th></th>\n",
       "      <th></th>\n",
       "      <th></th>\n",
       "      <th></th>\n",
       "      <th></th>\n",
       "    </tr>\n",
       "  </thead>\n",
       "  <tbody>\n",
       "    <tr>\n",
       "      <th>2790</th>\n",
       "      <td>D179086</td>\n",
       "      <td>historia patologica pregressa ex tabagista par...</td>\n",
       "      <td>0</td>\n",
       "      <td>1</td>\n",
       "      <td>0.599</td>\n",
       "    </tr>\n",
       "    <tr>\n",
       "      <th>10971</th>\n",
       "      <td>F007133</td>\n",
       "      <td>ex tabagista carteiras por dia iniciado aos an...</td>\n",
       "      <td>0</td>\n",
       "      <td>1</td>\n",
       "      <td>0.598</td>\n",
       "    </tr>\n",
       "    <tr>\n",
       "      <th>17545</th>\n",
       "      <td>N106811</td>\n",
       "      <td>anos tendo descontinuado vicio na ocasiao do i...</td>\n",
       "      <td>0</td>\n",
       "      <td>1</td>\n",
       "      <td>0.596</td>\n",
       "    </tr>\n",
       "    <tr>\n",
       "      <th>2542</th>\n",
       "      <td>D170701</td>\n",
       "      <td>refere tabagismo dos aos anos de idade um maco...</td>\n",
       "      <td>0</td>\n",
       "      <td>1</td>\n",
       "      <td>0.593</td>\n",
       "    </tr>\n",
       "    <tr>\n",
       "      <th>11413</th>\n",
       "      <td>F009240</td>\n",
       "      <td>em casa propria comodos pessoas com instalacoe...</td>\n",
       "      <td>0</td>\n",
       "      <td>1</td>\n",
       "      <td>0.591</td>\n",
       "    </tr>\n",
       "    <tr>\n",
       "      <th>...</th>\n",
       "      <td>...</td>\n",
       "      <td>...</td>\n",
       "      <td>...</td>\n",
       "      <td>...</td>\n",
       "      <td>...</td>\n",
       "    </tr>\n",
       "    <tr>\n",
       "      <th>16574</th>\n",
       "      <td>G024885</td>\n",
       "      <td>ele fumava cerca de cigarros dia bebia nos fin...</td>\n",
       "      <td>1</td>\n",
       "      <td>0</td>\n",
       "      <td>0.411</td>\n",
       "    </tr>\n",
       "    <tr>\n",
       "      <th>7917</th>\n",
       "      <td>H109775</td>\n",
       "      <td>foi tabagista de ate macos de cigarro por dia ...</td>\n",
       "      <td>1</td>\n",
       "      <td>0</td>\n",
       "      <td>0.408</td>\n",
       "    </tr>\n",
       "    <tr>\n",
       "      <th>22890</th>\n",
       "      <td>S086887</td>\n",
       "      <td>porem nao fazia tratamento regular tambem rela...</td>\n",
       "      <td>1</td>\n",
       "      <td>0</td>\n",
       "      <td>0.404</td>\n",
       "    </tr>\n",
       "    <tr>\n",
       "      <th>17413</th>\n",
       "      <td>N099434</td>\n",
       "      <td>habitos vicios etilista sendo que interrompeu ...</td>\n",
       "      <td>1</td>\n",
       "      <td>0</td>\n",
       "      <td>0.402</td>\n",
       "    </tr>\n",
       "    <tr>\n",
       "      <th>695</th>\n",
       "      <td>D131378</td>\n",
       "      <td>ex tabagista parou de fumar ha ano ex tabagista</td>\n",
       "      <td>1</td>\n",
       "      <td>0</td>\n",
       "      <td>0.402</td>\n",
       "    </tr>\n",
       "  </tbody>\n",
       "</table>\n",
       "<p>136 rows × 5 columns</p>\n",
       "</div>"
      ],
      "text/plain": [
       "      NR_REGISTRO                                              TEXTO  \\\n",
       "index                                                                  \n",
       "2790      D179086  historia patologica pregressa ex tabagista par...   \n",
       "10971     F007133  ex tabagista carteiras por dia iniciado aos an...   \n",
       "17545     N106811  anos tendo descontinuado vicio na ocasiao do i...   \n",
       "2542      D170701  refere tabagismo dos aos anos de idade um maco...   \n",
       "11413     F009240  em casa propria comodos pessoas com instalacoe...   \n",
       "...           ...                                                ...   \n",
       "16574     G024885  ele fumava cerca de cigarros dia bebia nos fin...   \n",
       "7917      H109775  foi tabagista de ate macos de cigarro por dia ...   \n",
       "22890     S086887  porem nao fazia tratamento regular tambem rela...   \n",
       "17413     N099434  habitos vicios etilista sendo que interrompeu ...   \n",
       "695       D131378    ex tabagista parou de fumar ha ano ex tabagista   \n",
       "\n",
       "       TABAGISMO  Previsão  probabilidade  \n",
       "index                                      \n",
       "2790           0         1          0.599  \n",
       "10971          0         1          0.598  \n",
       "17545          0         1          0.596  \n",
       "2542           0         1          0.593  \n",
       "11413          0         1          0.591  \n",
       "...          ...       ...            ...  \n",
       "16574          1         0          0.411  \n",
       "7917           1         0          0.408  \n",
       "22890          1         0          0.404  \n",
       "17413          1         0          0.402  \n",
       "695            1         0          0.402  \n",
       "\n",
       "[136 rows x 5 columns]"
      ]
     },
     "execution_count": 35,
     "metadata": {},
     "output_type": "execute_result"
    }
   ],
   "source": [
    "#checando\n",
    "erros = df_test.loc[[x != y for x,y in zip(df_test.TABAGISMO, df_test[\"Previsão\"])], :]\n",
    "erros.drop(['Unidade','DT_ADMISSAO','SEXO','DT_NASCIMENTO','EST_RESID','ALCOOL_CD'],axis = 1, inplace = True)\n",
    "erros[(erros.probabilidade > 0.4)&(erros.probabilidade < 0.6)].sort_values(by = 'probabilidade',ascending = False)"
   ]
  }
 ],
 "metadata": {
  "accelerator": "GPU",
  "colab": {
   "name": "NLP.ipynb",
   "provenance": []
  },
  "kernelspec": {
   "display_name": "Python 3",
   "language": "python",
   "name": "python3"
  },
  "language_info": {
   "codemirror_mode": {
    "name": "ipython",
    "version": 3
   },
   "file_extension": ".py",
   "mimetype": "text/x-python",
   "name": "python",
   "nbconvert_exporter": "python",
   "pygments_lexer": "ipython3",
   "version": "3.8.5"
  }
 },
 "nbformat": 4,
 "nbformat_minor": 4
}
