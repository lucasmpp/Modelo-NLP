{
 "cells": [
  {
   "cell_type": "code",
   "execution_count": 1,
   "metadata": {
    "id": "v9sjlhim_yrI"
   },
   "outputs": [],
   "source": [
    "from itertools import chain\n",
    "from utils import *\n",
    "from IPython.core.interactiveshell import InteractiveShell\n",
    "import keras\n",
    "import tensorflow as tf\n",
    "import sklearn \n",
    "from keras.models import Sequential\n",
    "from keras import layers\n",
    "from keras.backend import clear_session"
   ]
  },
  {
   "cell_type": "code",
   "execution_count": 2,
   "metadata": {},
   "outputs": [],
   "source": [
    "#pd.set_option('display.max_colwidth', None)\n",
    "InteractiveShell.ast_node_interactivity = \"all\""
   ]
  },
  {
   "cell_type": "code",
   "execution_count": 3,
   "metadata": {
    "id": "vshRbEax_5Z8"
   },
   "outputs": [],
   "source": [
    "dados1 = pd.read_excel('tmp001.xlsx')\n",
    "dados2 = pd.read_excel('tmp002.xlsx')\n",
    "dados3 = pd.read_excel('tmp003.xlsx')\n",
    "dados4 = pd.read_excel('Pasta3.xlsx')"
   ]
  },
  {
   "cell_type": "code",
   "execution_count": 4,
   "metadata": {
    "id": "loJsRcjyAUL1"
   },
   "outputs": [],
   "source": [
    "df1 = pd.merge(dados1, dados2, on=\"NR_REGISTRO\")"
   ]
  },
  {
   "cell_type": "code",
   "execution_count": 5,
   "metadata": {},
   "outputs": [],
   "source": [
    "df2 =df1.copy()"
   ]
  },
  {
   "cell_type": "code",
   "execution_count": 6,
   "metadata": {},
   "outputs": [],
   "source": [
    "df1.drop(['DT_ABERTURAPRONTUARIO'], axis = 1, inplace = True)\n",
    "#df2.drop(['MínDeDT_ABERTURAPRONTUARIO'], axis = 1, inplace = True)\n",
    "#df1 = df1.append(df2)\n",
    "df1[\"FUMO\"] = np.where(df1[\"FUMO\"] == \"SIM\", 1, 0)"
   ]
  },
  {
   "cell_type": "markdown",
   "metadata": {},
   "source": [
    "# Tratando o dataset"
   ]
  },
  {
   "cell_type": "code",
   "execution_count": 7,
   "metadata": {},
   "outputs": [],
   "source": [
    "#preparing the data frame\n",
    "df = Features_data()"
   ]
  },
  {
   "cell_type": "code",
   "execution_count": 8,
   "metadata": {},
   "outputs": [],
   "source": [
    "df.data_teste(df1, 10,10)"
   ]
  },
  {
   "cell_type": "code",
   "execution_count": 9,
   "metadata": {},
   "outputs": [],
   "source": [
    "from tensorflow import keras\n",
    "model = keras.models.load_model('modelo_top')"
   ]
  },
  {
   "cell_type": "code",
   "execution_count": 10,
   "metadata": {},
   "outputs": [
    {
     "name": "stderr",
     "output_type": "stream",
     "text": [
      "C:\\Users\\601546\\Documents\\NLP\\utils.py:264: SettingWithCopyWarning: \n",
      "A value is trying to be set on a copy of a slice from a DataFrame.\n",
      "Try using .loc[row_indexer,col_indexer] = value instead\n",
      "\n",
      "See the caveats in the documentation: https://pandas.pydata.org/pandas-docs/stable/user_guide/indexing.html#returning-a-view-versus-a-copy\n",
      "  self.data_test_model[\"Probabilidade\"] = predictions\n",
      "C:\\Users\\601546\\Documents\\NLP\\utils.py:265: SettingWithCopyWarning: \n",
      "A value is trying to be set on a copy of a slice from a DataFrame.\n",
      "Try using .loc[row_indexer,col_indexer] = value instead\n",
      "\n",
      "See the caveats in the documentation: https://pandas.pydata.org/pandas-docs/stable/user_guide/indexing.html#returning-a-view-versus-a-copy\n",
      "  self.data_test_model[\"FUMO\"] = y_pred\n"
     ]
    }
   ],
   "source": [
    "df.model(model)"
   ]
  },
  {
   "cell_type": "code",
   "execution_count": 11,
   "metadata": {},
   "outputs": [
    {
     "data": {
      "text/html": [
       "<div>\n",
       "<style scoped>\n",
       "    .dataframe tbody tr th:only-of-type {\n",
       "        vertical-align: middle;\n",
       "    }\n",
       "\n",
       "    .dataframe tbody tr th {\n",
       "        vertical-align: top;\n",
       "    }\n",
       "\n",
       "    .dataframe thead th {\n",
       "        text-align: right;\n",
       "    }\n",
       "</style>\n",
       "<table border=\"1\" class=\"dataframe\">\n",
       "  <thead>\n",
       "    <tr style=\"text-align: right;\">\n",
       "      <th></th>\n",
       "      <th>NR_REGISTRO</th>\n",
       "      <th>TEXTO</th>\n",
       "      <th>FUMO</th>\n",
       "      <th>Probabilidade</th>\n",
       "    </tr>\n",
       "  </thead>\n",
       "  <tbody>\n",
       "    <tr>\n",
       "      <th>0</th>\n",
       "      <td>D227653</td>\n",
       "      <td>tabagismo ate os cigarro ao dia</td>\n",
       "      <td>0</td>\n",
       "      <td>0.190809</td>\n",
       "    </tr>\n",
       "    <tr>\n",
       "      <th>1</th>\n",
       "      <td>D227730</td>\n",
       "      <td>tabagista de um fumou por dias</td>\n",
       "      <td>0</td>\n",
       "      <td>0.158263</td>\n",
       "    </tr>\n",
       "    <tr>\n",
       "      <th>2</th>\n",
       "      <td>D227750</td>\n",
       "      <td>ex tabagista tendo fumado dos aos anos ate dia...</td>\n",
       "      <td>0</td>\n",
       "      <td>0.151393</td>\n",
       "    </tr>\n",
       "    <tr>\n",
       "      <th>3</th>\n",
       "      <td>D227807</td>\n",
       "      <td>paciente refere que fumou ate ha anos uma medi...</td>\n",
       "      <td>0</td>\n",
       "      <td>0.273813</td>\n",
       "    </tr>\n",
       "    <tr>\n",
       "      <th>4</th>\n",
       "      <td>D227807</td>\n",
       "      <td>paciente refere que fumou ate ha anos uma medi...</td>\n",
       "      <td>0</td>\n",
       "      <td>0.273813</td>\n",
       "    </tr>\n",
       "    <tr>\n",
       "      <th>...</th>\n",
       "      <td>...</td>\n",
       "      <td>...</td>\n",
       "      <td>...</td>\n",
       "      <td>...</td>\n",
       "    </tr>\n",
       "    <tr>\n",
       "      <th>606</th>\n",
       "      <td>D243384</td>\n",
       "      <td>vazio</td>\n",
       "      <td>0</td>\n",
       "      <td>0.000000</td>\n",
       "    </tr>\n",
       "    <tr>\n",
       "      <th>609</th>\n",
       "      <td>D243487</td>\n",
       "      <td>vazio</td>\n",
       "      <td>0</td>\n",
       "      <td>0.000000</td>\n",
       "    </tr>\n",
       "    <tr>\n",
       "      <th>620</th>\n",
       "      <td>D243771</td>\n",
       "      <td>vazio</td>\n",
       "      <td>0</td>\n",
       "      <td>0.000000</td>\n",
       "    </tr>\n",
       "    <tr>\n",
       "      <th>635</th>\n",
       "      <td>D244132</td>\n",
       "      <td>vazio</td>\n",
       "      <td>0</td>\n",
       "      <td>0.000000</td>\n",
       "    </tr>\n",
       "    <tr>\n",
       "      <th>759</th>\n",
       "      <td>D249121</td>\n",
       "      <td>vazio</td>\n",
       "      <td>0</td>\n",
       "      <td>0.000000</td>\n",
       "    </tr>\n",
       "  </tbody>\n",
       "</table>\n",
       "<p>789 rows × 4 columns</p>\n",
       "</div>"
      ],
      "text/plain": [
       "    NR_REGISTRO                                              TEXTO  FUMO  \\\n",
       "0       D227653                    tabagismo ate os cigarro ao dia     0   \n",
       "1       D227730                     tabagista de um fumou por dias     0   \n",
       "2       D227750  ex tabagista tendo fumado dos aos anos ate dia...     0   \n",
       "3       D227807  paciente refere que fumou ate ha anos uma medi...     0   \n",
       "4       D227807  paciente refere que fumou ate ha anos uma medi...     0   \n",
       "..          ...                                                ...   ...   \n",
       "606     D243384                                              vazio     0   \n",
       "609     D243487                                              vazio     0   \n",
       "620     D243771                                              vazio     0   \n",
       "635     D244132                                              vazio     0   \n",
       "759     D249121                                              vazio     0   \n",
       "\n",
       "     Probabilidade  \n",
       "0         0.190809  \n",
       "1         0.158263  \n",
       "2         0.151393  \n",
       "3         0.273813  \n",
       "4         0.273813  \n",
       "..             ...  \n",
       "606       0.000000  \n",
       "609       0.000000  \n",
       "620       0.000000  \n",
       "635       0.000000  \n",
       "759       0.000000  \n",
       "\n",
       "[789 rows x 4 columns]"
      ]
     },
     "execution_count": 11,
     "metadata": {},
     "output_type": "execute_result"
    }
   ],
   "source": [
    "df.data_final#[(df.data_final.Probabilidade >= 0.3) & (df.data_final.Probabilidade <= 0.6)]"
   ]
  },
  {
   "cell_type": "code",
   "execution_count": 12,
   "metadata": {},
   "outputs": [
    {
     "data": {
      "text/html": [
       "<div>\n",
       "<style scoped>\n",
       "    .dataframe tbody tr th:only-of-type {\n",
       "        vertical-align: middle;\n",
       "    }\n",
       "\n",
       "    .dataframe tbody tr th {\n",
       "        vertical-align: top;\n",
       "    }\n",
       "\n",
       "    .dataframe thead th {\n",
       "        text-align: right;\n",
       "    }\n",
       "</style>\n",
       "<table border=\"1\" class=\"dataframe\">\n",
       "  <thead>\n",
       "    <tr style=\"text-align: right;\">\n",
       "      <th></th>\n",
       "      <th>NR_REGISTRO</th>\n",
       "      <th>TEXTO</th>\n",
       "      <th>FUMO</th>\n",
       "      <th>Probabilidade</th>\n",
       "    </tr>\n",
       "  </thead>\n",
       "  <tbody>\n",
       "    <tr>\n",
       "      <th>0</th>\n",
       "      <td>D227653</td>\n",
       "      <td>tabagismo ate os cigarro ao dia</td>\n",
       "      <td>0</td>\n",
       "      <td>0</td>\n",
       "    </tr>\n",
       "    <tr>\n",
       "      <th>1</th>\n",
       "      <td>D227730</td>\n",
       "      <td>tabagista de um fumou por dias</td>\n",
       "      <td>0</td>\n",
       "      <td>0</td>\n",
       "    </tr>\n",
       "    <tr>\n",
       "      <th>2</th>\n",
       "      <td>D227750</td>\n",
       "      <td>ex tabagista tendo fumado dos aos anos ate dia...</td>\n",
       "      <td>0</td>\n",
       "      <td>0</td>\n",
       "    </tr>\n",
       "    <tr>\n",
       "      <th>3</th>\n",
       "      <td>D227807</td>\n",
       "      <td>paciente refere que fumou ate ha anos uma medi...</td>\n",
       "      <td>0</td>\n",
       "      <td>0</td>\n",
       "    </tr>\n",
       "    <tr>\n",
       "      <th>4</th>\n",
       "      <td>D227807</td>\n",
       "      <td>paciente refere que fumou ate ha anos uma medi...</td>\n",
       "      <td>0</td>\n",
       "      <td>0</td>\n",
       "    </tr>\n",
       "    <tr>\n",
       "      <th>...</th>\n",
       "      <td>...</td>\n",
       "      <td>...</td>\n",
       "      <td>...</td>\n",
       "      <td>...</td>\n",
       "    </tr>\n",
       "    <tr>\n",
       "      <th>784</th>\n",
       "      <td>D249998</td>\n",
       "      <td>paciente nega etilismo tabagismo</td>\n",
       "      <td>0</td>\n",
       "      <td>0</td>\n",
       "    </tr>\n",
       "    <tr>\n",
       "      <th>785</th>\n",
       "      <td>D250071</td>\n",
       "      <td>foi tabagista da adolescencia ate os anos de i...</td>\n",
       "      <td>0</td>\n",
       "      <td>0</td>\n",
       "    </tr>\n",
       "    <tr>\n",
       "      <th>786</th>\n",
       "      <td>D250165</td>\n",
       "      <td>durante periodo proximo ao acidente vascular e...</td>\n",
       "      <td>0</td>\n",
       "      <td>0</td>\n",
       "    </tr>\n",
       "    <tr>\n",
       "      <th>787</th>\n",
       "      <td>D250172</td>\n",
       "      <td>foi tabagista dos aos anos de idade fumando ap...</td>\n",
       "      <td>0</td>\n",
       "      <td>0</td>\n",
       "    </tr>\n",
       "    <tr>\n",
       "      <th>788</th>\n",
       "      <td>D250274</td>\n",
       "      <td>tabagista sim nao</td>\n",
       "      <td>0</td>\n",
       "      <td>0</td>\n",
       "    </tr>\n",
       "  </tbody>\n",
       "</table>\n",
       "<p>789 rows × 4 columns</p>\n",
       "</div>"
      ],
      "text/plain": [
       "    NR_REGISTRO                                              TEXTO  FUMO  \\\n",
       "0       D227653                    tabagismo ate os cigarro ao dia     0   \n",
       "1       D227730                     tabagista de um fumou por dias     0   \n",
       "2       D227750  ex tabagista tendo fumado dos aos anos ate dia...     0   \n",
       "3       D227807  paciente refere que fumou ate ha anos uma medi...     0   \n",
       "4       D227807  paciente refere que fumou ate ha anos uma medi...     0   \n",
       "..          ...                                                ...   ...   \n",
       "784     D249998                   paciente nega etilismo tabagismo     0   \n",
       "785     D250071  foi tabagista da adolescencia ate os anos de i...     0   \n",
       "786     D250165  durante periodo proximo ao acidente vascular e...     0   \n",
       "787     D250172  foi tabagista dos aos anos de idade fumando ap...     0   \n",
       "788     D250274                                  tabagista sim nao     0   \n",
       "\n",
       "     Probabilidade  \n",
       "0                0  \n",
       "1                0  \n",
       "2                0  \n",
       "3                0  \n",
       "4                0  \n",
       "..             ...  \n",
       "784              0  \n",
       "785              0  \n",
       "786              0  \n",
       "787              0  \n",
       "788              0  \n",
       "\n",
       "[789 rows x 4 columns]"
      ]
     },
     "execution_count": 12,
     "metadata": {},
     "output_type": "execute_result"
    }
   ],
   "source": [
    "df1"
   ]
  }
 ],
 "metadata": {
  "accelerator": "GPU",
  "colab": {
   "name": "NLP.ipynb",
   "provenance": []
  },
  "kernelspec": {
   "display_name": "Python 3",
   "language": "python",
   "name": "python3"
  },
  "language_info": {
   "codemirror_mode": {
    "name": "ipython",
    "version": 3
   },
   "file_extension": ".py",
   "mimetype": "text/x-python",
   "name": "python",
   "nbconvert_exporter": "python",
   "pygments_lexer": "ipython3",
   "version": "3.8.5"
  }
 },
 "nbformat": 4,
 "nbformat_minor": 4
}
